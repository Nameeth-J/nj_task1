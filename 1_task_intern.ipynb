{
  "nbformat": 4,
  "nbformat_minor": 0,
  "metadata": {
    "colab": {
      "provenance": []
    },
    "kernelspec": {
      "name": "python3",
      "display_name": "Python 3"
    },
    "language_info": {
      "name": "python"
    }
  },
  "cells": [
    {
      "cell_type": "code",
      "execution_count": null,
      "metadata": {
        "id": "pimD3rTB6-Nt"
      },
      "outputs": [],
      "source": [
        "import os\n",
        "import numpy as np\n",
        "import pandas as pd\n",
        "import matplotlib.pyplot as plt\n",
        "from keras.models import Sequential\n",
        "from keras.layers import Dense\n",
        "from keras.layers import LSTM\n",
        "from keras.layers import Dropout\n",
        "from sklearn.preprocessing import MinMaxScaler\n"
      ]
    },
    {
      "cell_type": "code",
      "source": [
        "dataset=pd.read_csv('NFLX.csv')"
      ],
      "metadata": {
        "id": "XowJOnal9U3W"
      },
      "execution_count": null,
      "outputs": []
    },
    {
      "cell_type": "code",
      "source": [
        "dataset_train=dataset.iloc[-1000:-100]\n",
        "dataset_test=dataset.iloc[-100:]\n",
        "print(dataset_train.columns.tolist())\n",
        "print(dataset_test.columns.tolist())"
      ],
      "metadata": {
        "colab": {
          "base_uri": "https://localhost:8080/"
        },
        "id": "KbHG9AAL9eVZ",
        "outputId": "dbcd9a9c-e988-418d-af2a-78f36de967fe"
      },
      "execution_count": null,
      "outputs": [
        {
          "output_type": "stream",
          "name": "stdout",
          "text": [
            "['Date', 'Open', 'High', 'Low', 'Close', 'Adj Close', 'Volume']\n",
            "['Date', 'Open', 'High', 'Low', 'Close', 'Adj Close', 'Volume']\n"
          ]
        }
      ]
    },
    {
      "cell_type": "code",
      "source": [
        "trainset = dataset_train.iloc[:,1:2].values #Open\n",
        "display(trainset[0:5])"
      ],
      "metadata": {
        "colab": {
          "base_uri": "https://localhost:8080/",
          "height": 104
        },
        "id": "jP3Wkzpx9rpg",
        "outputId": "f607f3b1-c18a-4606-fdc4-f4d1d103933e"
      },
      "execution_count": null,
      "outputs": [
        {
          "output_type": "display_data",
          "data": {
            "text/plain": [
              "array([[278.730011],\n",
              "       [277.73999 ],\n",
              "       [282.070007],\n",
              "       [283.880005],\n",
              "       [281.      ]])"
            ]
          },
          "metadata": {}
        }
      ]
    },
    {
      "cell_type": "code",
      "source": [
        "sc = MinMaxScaler(feature_range = (0,1))\n",
        "training_scaled = sc.fit_transform(trainset)\n",
        "print(training_scaled[0:5])\n",
        "print(len(training_scaled))"
      ],
      "metadata": {
        "colab": {
          "base_uri": "https://localhost:8080/"
        },
        "id": "CRojFmHS9vAD",
        "outputId": "2b423b6c-6a95-497b-ec22-ab708b82d6b7"
      },
      "execution_count": null,
      "outputs": [
        {
          "output_type": "stream",
          "name": "stdout",
          "text": [
            "[[0.1202792 ]\n",
            " [0.11762178]\n",
            " [0.12924443]\n",
            " [0.13410283]\n",
            " [0.12637231]]\n",
            "900\n"
          ]
        }
      ]
    },
    {
      "cell_type": "code",
      "source": [
        "x_train = []\n",
        "y_train = []\n"
      ],
      "metadata": {
        "id": "xhHCqZIn9ybh"
      },
      "execution_count": null,
      "outputs": []
    },
    {
      "cell_type": "code",
      "source": [
        "for i in range(60,len(training_scaled)):\n",
        "    x_train.append(training_scaled[i-60:i, 0])\n",
        "    y_train.append(training_scaled[i,0])\n",
        "x_train,y_train = np.array(x_train),np.array(y_train)\n",
        "print(x_train.shape,y_train.shape)"
      ],
      "metadata": {
        "colab": {
          "base_uri": "https://localhost:8080/"
        },
        "id": "HNE6xHNl910p",
        "outputId": "2974a6df-a616-4854-cee2-b94635a7f428"
      },
      "execution_count": null,
      "outputs": [
        {
          "output_type": "stream",
          "name": "stdout",
          "text": [
            "(840, 60) (840,)\n"
          ]
        }
      ]
    },
    {
      "cell_type": "code",
      "source": [
        "x_train = np.reshape(x_train, (x_train.shape[0],x_train.shape[1],1))\n",
        "print('(samples, time steps, features) =',x_train.shape)\n"
      ],
      "metadata": {
        "colab": {
          "base_uri": "https://localhost:8080/"
        },
        "id": "bzjbTGKF97yU",
        "outputId": "428d0dce-40d4-4cf7-f51c-37cb4dbfb106"
      },
      "execution_count": null,
      "outputs": [
        {
          "output_type": "stream",
          "name": "stdout",
          "text": [
            "(samples, time steps, features) = (840, 60, 1)\n"
          ]
        }
      ]
    },
    {
      "cell_type": "code",
      "source": [
        "regressor = Sequential()\n",
        "regressor.add(LSTM(units = 50,return_sequences = True,input_shape = (x_train.shape[1],1)))\n",
        "regressor.add(Dropout(0.2))\n",
        "regressor.add(LSTM(units = 50,return_sequences = True))\n",
        "regressor.add(Dropout(0.2))\n",
        "regressor.add(LSTM(units = 50,return_sequences = True))\n",
        "regressor.add(Dropout(0.2))\n",
        "regressor.add(LSTM(units = 50))\n",
        "regressor.add(Dropout(0.2))\n",
        "regressor.add(Dense(units = 1))\n"
      ],
      "metadata": {
        "id": "oajbF1e_-A4S"
      },
      "execution_count": null,
      "outputs": []
    },
    {
      "cell_type": "code",
      "source": [
        "regressor.compile(optimizer = 'adam',loss = 'mean_squared_error')\n",
        "\n",
        "regressor.fit(x_train,y_train,epochs =100, batch_size = 32)"
      ],
      "metadata": {
        "colab": {
          "base_uri": "https://localhost:8080/"
        },
        "id": "DrV8ozQ3-FNF",
        "outputId": "3f941a85-92c6-459c-d256-bbcf7624ac94"
      },
      "execution_count": null,
      "outputs": [
        {
          "output_type": "stream",
          "name": "stdout",
          "text": [
            "Epoch 1/100\n",
            "27/27 [==============================] - 14s 135ms/step - loss: 0.0544\n",
            "Epoch 2/100\n",
            "27/27 [==============================] - 5s 184ms/step - loss: 0.0116\n",
            "Epoch 3/100\n",
            "27/27 [==============================] - 4s 136ms/step - loss: 0.0091\n",
            "Epoch 4/100\n",
            "27/27 [==============================] - 4s 137ms/step - loss: 0.0085\n",
            "Epoch 5/100\n",
            "27/27 [==============================] - 5s 184ms/step - loss: 0.0083\n",
            "Epoch 6/100\n",
            "27/27 [==============================] - 4s 137ms/step - loss: 0.0078\n",
            "Epoch 7/100\n",
            "27/27 [==============================] - 4s 134ms/step - loss: 0.0074\n",
            "Epoch 8/100\n",
            "27/27 [==============================] - 5s 179ms/step - loss: 0.0076\n",
            "Epoch 9/100\n",
            "27/27 [==============================] - 4s 135ms/step - loss: 0.0076\n",
            "Epoch 10/100\n",
            "27/27 [==============================] - 4s 136ms/step - loss: 0.0076\n",
            "Epoch 11/100\n",
            "27/27 [==============================] - 4s 158ms/step - loss: 0.0067\n",
            "Epoch 12/100\n",
            "27/27 [==============================] - 4s 158ms/step - loss: 0.0064\n",
            "Epoch 13/100\n",
            "27/27 [==============================] - 5s 175ms/step - loss: 0.0069\n",
            "Epoch 14/100\n",
            "27/27 [==============================] - 5s 168ms/step - loss: 0.0057\n",
            "Epoch 15/100\n",
            "27/27 [==============================] - 4s 148ms/step - loss: 0.0062\n",
            "Epoch 16/100\n",
            "27/27 [==============================] - 5s 176ms/step - loss: 0.0059\n",
            "Epoch 17/100\n",
            "27/27 [==============================] - 5s 176ms/step - loss: 0.0059\n",
            "Epoch 18/100\n",
            "27/27 [==============================] - 4s 141ms/step - loss: 0.0051\n",
            "Epoch 19/100\n",
            "27/27 [==============================] - 4s 135ms/step - loss: 0.0053\n",
            "Epoch 20/100\n",
            "27/27 [==============================] - 4s 153ms/step - loss: 0.0070\n",
            "Epoch 21/100\n",
            "27/27 [==============================] - 4s 160ms/step - loss: 0.0056\n",
            "Epoch 22/100\n",
            "27/27 [==============================] - 4s 135ms/step - loss: 0.0053\n",
            "Epoch 23/100\n",
            "27/27 [==============================] - 4s 135ms/step - loss: 0.0048\n",
            "Epoch 24/100\n",
            "27/27 [==============================] - 5s 182ms/step - loss: 0.0053\n",
            "Epoch 25/100\n",
            "27/27 [==============================] - 4s 135ms/step - loss: 0.0052\n",
            "Epoch 26/100\n",
            "27/27 [==============================] - 4s 136ms/step - loss: 0.0048\n",
            "Epoch 27/100\n",
            "27/27 [==============================] - 5s 186ms/step - loss: 0.0049\n",
            "Epoch 28/100\n",
            "27/27 [==============================] - 4s 134ms/step - loss: 0.0050\n",
            "Epoch 29/100\n",
            "27/27 [==============================] - 4s 136ms/step - loss: 0.0050\n",
            "Epoch 30/100\n",
            "27/27 [==============================] - 5s 184ms/step - loss: 0.0047\n",
            "Epoch 31/100\n",
            "27/27 [==============================] - 4s 135ms/step - loss: 0.0049\n",
            "Epoch 32/100\n",
            "27/27 [==============================] - 4s 136ms/step - loss: 0.0049\n",
            "Epoch 33/100\n",
            "27/27 [==============================] - 5s 177ms/step - loss: 0.0045\n",
            "Epoch 34/100\n",
            "27/27 [==============================] - 4s 137ms/step - loss: 0.0050\n",
            "Epoch 35/100\n",
            "27/27 [==============================] - 4s 137ms/step - loss: 0.0045\n",
            "Epoch 36/100\n",
            "27/27 [==============================] - 4s 157ms/step - loss: 0.0047\n",
            "Epoch 37/100\n",
            "27/27 [==============================] - 4s 158ms/step - loss: 0.0047\n",
            "Epoch 38/100\n",
            "27/27 [==============================] - 4s 135ms/step - loss: 0.0041\n",
            "Epoch 39/100\n",
            "27/27 [==============================] - 4s 138ms/step - loss: 0.0041\n",
            "Epoch 40/100\n",
            "27/27 [==============================] - 5s 179ms/step - loss: 0.0040\n",
            "Epoch 41/100\n",
            "27/27 [==============================] - 4s 137ms/step - loss: 0.0042\n",
            "Epoch 42/100\n",
            "27/27 [==============================] - 4s 135ms/step - loss: 0.0042\n",
            "Epoch 43/100\n",
            "27/27 [==============================] - 5s 184ms/step - loss: 0.0041\n",
            "Epoch 44/100\n",
            "27/27 [==============================] - 4s 135ms/step - loss: 0.0039\n",
            "Epoch 45/100\n",
            "27/27 [==============================] - 4s 135ms/step - loss: 0.0040\n",
            "Epoch 46/100\n",
            "27/27 [==============================] - 5s 185ms/step - loss: 0.0039\n",
            "Epoch 47/100\n",
            "27/27 [==============================] - 4s 135ms/step - loss: 0.0037\n",
            "Epoch 48/100\n",
            "27/27 [==============================] - 4s 137ms/step - loss: 0.0039\n",
            "Epoch 49/100\n",
            "27/27 [==============================] - 5s 184ms/step - loss: 0.0041\n",
            "Epoch 50/100\n",
            "27/27 [==============================] - 4s 135ms/step - loss: 0.0041\n",
            "Epoch 51/100\n",
            "27/27 [==============================] - 4s 136ms/step - loss: 0.0036\n",
            "Epoch 52/100\n",
            "27/27 [==============================] - 4s 163ms/step - loss: 0.0035\n",
            "Epoch 53/100\n",
            "27/27 [==============================] - 4s 151ms/step - loss: 0.0035\n",
            "Epoch 54/100\n",
            "27/27 [==============================] - 4s 136ms/step - loss: 0.0032\n",
            "Epoch 55/100\n",
            "27/27 [==============================] - 4s 141ms/step - loss: 0.0033\n",
            "Epoch 56/100\n",
            "27/27 [==============================] - 5s 174ms/step - loss: 0.0036\n",
            "Epoch 57/100\n",
            "27/27 [==============================] - 4s 135ms/step - loss: 0.0036\n",
            "Epoch 58/100\n",
            "27/27 [==============================] - 4s 135ms/step - loss: 0.0036\n",
            "Epoch 59/100\n",
            "27/27 [==============================] - 5s 185ms/step - loss: 0.0030\n",
            "Epoch 60/100\n",
            "27/27 [==============================] - 4s 135ms/step - loss: 0.0032\n",
            "Epoch 61/100\n",
            "27/27 [==============================] - 4s 137ms/step - loss: 0.0032\n",
            "Epoch 62/100\n",
            "27/27 [==============================] - 5s 184ms/step - loss: 0.0033\n",
            "Epoch 63/100\n",
            "27/27 [==============================] - 4s 136ms/step - loss: 0.0032\n",
            "Epoch 64/100\n",
            "27/27 [==============================] - 4s 135ms/step - loss: 0.0031\n",
            "Epoch 65/100\n",
            "27/27 [==============================] - 5s 180ms/step - loss: 0.0031\n",
            "Epoch 66/100\n",
            "27/27 [==============================] - 4s 134ms/step - loss: 0.0032\n",
            "Epoch 67/100\n",
            "27/27 [==============================] - 4s 136ms/step - loss: 0.0028\n",
            "Epoch 68/100\n",
            "27/27 [==============================] - 4s 158ms/step - loss: 0.0028\n",
            "Epoch 69/100\n",
            "27/27 [==============================] - 4s 158ms/step - loss: 0.0030\n",
            "Epoch 70/100\n",
            "27/27 [==============================] - 4s 135ms/step - loss: 0.0029\n",
            "Epoch 71/100\n",
            "27/27 [==============================] - 4s 137ms/step - loss: 0.0031\n",
            "Epoch 72/100\n",
            "27/27 [==============================] - 5s 178ms/step - loss: 0.0029\n",
            "Epoch 73/100\n",
            "27/27 [==============================] - 4s 135ms/step - loss: 0.0028\n",
            "Epoch 74/100\n",
            "27/27 [==============================] - 4s 136ms/step - loss: 0.0027\n",
            "Epoch 75/100\n",
            "27/27 [==============================] - 5s 184ms/step - loss: 0.0026\n",
            "Epoch 76/100\n",
            "27/27 [==============================] - 4s 134ms/step - loss: 0.0029\n",
            "Epoch 77/100\n",
            "27/27 [==============================] - 4s 136ms/step - loss: 0.0025\n",
            "Epoch 78/100\n",
            "27/27 [==============================] - 5s 185ms/step - loss: 0.0026\n",
            "Epoch 79/100\n",
            "27/27 [==============================] - 4s 135ms/step - loss: 0.0026\n",
            "Epoch 80/100\n",
            "27/27 [==============================] - 4s 136ms/step - loss: 0.0026\n",
            "Epoch 81/100\n",
            "27/27 [==============================] - 5s 176ms/step - loss: 0.0026\n",
            "Epoch 82/100\n",
            "27/27 [==============================] - 4s 139ms/step - loss: 0.0026\n",
            "Epoch 83/100\n",
            "27/27 [==============================] - 4s 136ms/step - loss: 0.0026\n",
            "Epoch 84/100\n",
            "27/27 [==============================] - 4s 155ms/step - loss: 0.0027\n",
            "Epoch 85/100\n",
            "27/27 [==============================] - 4s 162ms/step - loss: 0.0025\n",
            "Epoch 86/100\n",
            "27/27 [==============================] - 4s 136ms/step - loss: 0.0027\n",
            "Epoch 87/100\n",
            "27/27 [==============================] - 4s 137ms/step - loss: 0.0023\n",
            "Epoch 88/100\n",
            "27/27 [==============================] - 5s 179ms/step - loss: 0.0022\n",
            "Epoch 89/100\n",
            "27/27 [==============================] - 4s 135ms/step - loss: 0.0022\n",
            "Epoch 90/100\n",
            "27/27 [==============================] - 4s 135ms/step - loss: 0.0024\n",
            "Epoch 91/100\n",
            "27/27 [==============================] - 5s 184ms/step - loss: 0.0025\n",
            "Epoch 92/100\n",
            "27/27 [==============================] - 4s 135ms/step - loss: 0.0023\n",
            "Epoch 93/100\n",
            "27/27 [==============================] - 4s 138ms/step - loss: 0.0024\n",
            "Epoch 94/100\n",
            "27/27 [==============================] - 5s 184ms/step - loss: 0.0023\n",
            "Epoch 95/100\n",
            "27/27 [==============================] - 4s 135ms/step - loss: 0.0020\n",
            "Epoch 96/100\n",
            "27/27 [==============================] - 4s 135ms/step - loss: 0.0023\n",
            "Epoch 97/100\n",
            "27/27 [==============================] - 5s 174ms/step - loss: 0.0021\n",
            "Epoch 98/100\n",
            "27/27 [==============================] - 4s 142ms/step - loss: 0.0026\n",
            "Epoch 99/100\n",
            "27/27 [==============================] - 4s 135ms/step - loss: 0.0021\n",
            "Epoch 100/100\n",
            "27/27 [==============================] - 4s 154ms/step - loss: 0.0025\n"
          ]
        },
        {
          "output_type": "execute_result",
          "data": {
            "text/plain": [
              "<keras.callbacks.History at 0x7fbdd2b86140>"
            ]
          },
          "metadata": {},
          "execution_count": 13
        }
      ]
    },
    {
      "cell_type": "code",
      "source": [
        "real_stock_price = dataset_test.iloc[:,1:2].values\n",
        "dataset_total = pd.concat((dataset_train['Open'],dataset_test['Open']),axis = 0)"
      ],
      "metadata": {
        "id": "395aUbqPBC-E"
      },
      "execution_count": null,
      "outputs": []
    },
    {
      "cell_type": "code",
      "source": [
        "print(len(dataset_total),len(dataset_test))\n",
        "inputs = dataset_total[len(dataset_total)-len(dataset_test)-60:].values\n",
        "print(inputs.shape)"
      ],
      "metadata": {
        "colab": {
          "base_uri": "https://localhost:8080/"
        },
        "id": "AlRkydacBXTU",
        "outputId": "e45501e9-c8ea-4c67-af81-1441b412e471"
      },
      "execution_count": null,
      "outputs": [
        {
          "output_type": "stream",
          "name": "stdout",
          "text": [
            "1000 100\n",
            "(160,)\n"
          ]
        }
      ]
    },
    {
      "cell_type": "code",
      "source": [
        "inputs = inputs.reshape(-1,1)\n",
        "print(inputs.shape)\n",
        "\n",
        "#sc = MinMaxScaler(feature_range = (0,1))\n",
        "inputs = sc.transform(inputs)\n",
        "print(inputs.shape)"
      ],
      "metadata": {
        "colab": {
          "base_uri": "https://localhost:8080/"
        },
        "id": "dJSW1MqJBaQ2",
        "outputId": "41fdedb3-9a06-4194-cf9c-84303934a9cc"
      },
      "execution_count": null,
      "outputs": [
        {
          "output_type": "stream",
          "name": "stdout",
          "text": [
            "(160, 1)\n",
            "(160, 1)\n"
          ]
        }
      ]
    },
    {
      "cell_type": "code",
      "source": [
        "\n",
        "x_test = []\n",
        "for i in range(60,len(inputs)):\n",
        "    x_test.append(inputs[i-60:i,0])\n",
        "x_test = np.array(x_test)\n",
        "print(x_test.shape)\n",
        "\n",
        "x_test = np.reshape(x_test, (x_test.shape[0],x_test.shape[1],1))\n",
        "print(x_test.shape)\n"
      ],
      "metadata": {
        "colab": {
          "base_uri": "https://localhost:8080/"
        },
        "id": "NKVU2e1RBeLT",
        "outputId": "db1da965-4b97-4dbc-f668-194a3665287a"
      },
      "execution_count": null,
      "outputs": [
        {
          "output_type": "stream",
          "name": "stdout",
          "text": [
            "(100, 60)\n",
            "(100, 60, 1)\n"
          ]
        }
      ]
    },
    {
      "cell_type": "code",
      "source": [
        "predicted_price = regressor.predict(x_test)"
      ],
      "metadata": {
        "colab": {
          "base_uri": "https://localhost:8080/"
        },
        "id": "S-d6VPXUBg6h",
        "outputId": "3c2f7e8a-b358-40db-db12-d366fddf1685"
      },
      "execution_count": null,
      "outputs": [
        {
          "output_type": "stream",
          "name": "stdout",
          "text": [
            "4/4 [==============================] - 2s 49ms/step\n"
          ]
        }
      ]
    },
    {
      "cell_type": "code",
      "source": [
        "predicted_price = sc.inverse_transform(predicted_price)\n",
        "print(predicted_price.shape)"
      ],
      "metadata": {
        "colab": {
          "base_uri": "https://localhost:8080/"
        },
        "id": "HZjF1xSUBlOw",
        "outputId": "30265e13-4b50-4249-a585-d960d81feed2"
      },
      "execution_count": null,
      "outputs": [
        {
          "output_type": "stream",
          "name": "stdout",
          "text": [
            "(100, 1)\n"
          ]
        }
      ]
    },
    {
      "cell_type": "code",
      "source": [
        "\n",
        "plt.plot(real_stock_price,color = 'red', label = 'Real Price')\n",
        "plt.plot(predicted_price, color = 'blue', label = 'Predicted Price')\n",
        "plt.title('NFLX Stock Price Prediction')\n",
        "plt.xlabel('Time')\n",
        "plt.ylabel('NFLX Stock Price')\n",
        "plt.xlim(0,100)\n",
        "plt.ylim(0,1200)\n",
        "plt.legend()\n",
        "plt.show()"
      ],
      "metadata": {
        "colab": {
          "base_uri": "https://localhost:8080/",
          "height": 472
        },
        "id": "DQIHLaegBncq",
        "outputId": "ab9e9c1d-65e4-44d0-9991-fec37540fcee"
      },
      "execution_count": null,
      "outputs": [
        {
          "output_type": "display_data",
          "data": {
            "text/plain": [
              "<Figure size 640x480 with 1 Axes>"
            ],
            "image/png": "[encoded data removed]"
          },
          "metadata": {}
        }
      ]
    },
    {
      "cell_type": "code",
      "source": [
        "inputs = np.array(dataset_train['Open'][-60:])\n",
        "new_predicted_price=[]\n",
        "for i in range(100):\n",
        "    x = np.reshape(inputs, (1,60,1))\n",
        "    pred = regressor.predict(x)\n",
        "    inputs = np.append(inputs, pred)\n",
        "    inputs = inputs[1:]\n",
        "    new_predicted_price+=[pred.reshape(-1)]"
      ],
      "metadata": {
        "colab": {
          "base_uri": "https://localhost:8080/"
        },
        "id": "RFX3_RlFBtAT",
        "outputId": "6306f842-9957-44b2-d474-284e53e9f317"
      },
      "execution_count": null,
      "outputs": [
        {
          "output_type": "stream",
          "name": "stdout",
          "text": [
            "1/1 [==============================] - 0s 40ms/step\n",
            "1/1 [==============================] - 0s 33ms/step\n",
            "1/1 [==============================] - 0s 39ms/step\n",
            "1/1 [==============================] - 0s 47ms/step\n",
            "1/1 [==============================] - 0s 40ms/step\n",
            "1/1 [==============================] - 0s 34ms/step\n",
            "1/1 [==============================] - 0s 35ms/step\n",
            "1/1 [==============================] - 0s 35ms/step\n",
            "1/1 [==============================] - 0s 35ms/step\n",
            "1/1 [==============================] - 0s 33ms/step\n",
            "1/1 [==============================] - 0s 42ms/step\n",
            "1/1 [==============================] - 0s 37ms/step\n",
            "1/1 [==============================] - 0s 36ms/step\n",
            "1/1 [==============================] - 0s 42ms/step\n",
            "1/1 [==============================] - 0s 37ms/step\n",
            "1/1 [==============================] - 0s 37ms/step\n",
            "1/1 [==============================] - 0s 44ms/step\n",
            "1/1 [==============================] - 0s 37ms/step\n",
            "1/1 [==============================] - 0s 39ms/step\n",
            "1/1 [==============================] - 0s 43ms/step\n",
            "1/1 [==============================] - 0s 36ms/step\n",
            "1/1 [==============================] - 0s 37ms/step\n",
            "1/1 [==============================] - 0s 37ms/step\n",
            "1/1 [==============================] - 0s 39ms/step\n",
            "1/1 [==============================] - 0s 36ms/step\n",
            "1/1 [==============================] - 0s 37ms/step\n",
            "1/1 [==============================] - 0s 48ms/step\n",
            "1/1 [==============================] - 0s 39ms/step\n",
            "1/1 [==============================] - 0s 42ms/step\n",
            "1/1 [==============================] - 0s 35ms/step\n",
            "1/1 [==============================] - 0s 38ms/step\n",
            "1/1 [==============================] - 0s 38ms/step\n",
            "1/1 [==============================] - 0s 41ms/step\n",
            "1/1 [==============================] - 0s 38ms/step\n",
            "1/1 [==============================] - 0s 39ms/step\n",
            "1/1 [==============================] - 0s 40ms/step\n",
            "1/1 [==============================] - 0s 35ms/step\n",
            "1/1 [==============================] - 0s 37ms/step\n",
            "1/1 [==============================] - 0s 45ms/step\n",
            "1/1 [==============================] - 0s 36ms/step\n",
            "1/1 [==============================] - 0s 35ms/step\n",
            "1/1 [==============================] - 0s 41ms/step\n",
            "1/1 [==============================] - 0s 40ms/step\n",
            "1/1 [==============================] - 0s 61ms/step\n",
            "1/1 [==============================] - 0s 56ms/step\n",
            "1/1 [==============================] - 0s 55ms/step\n",
            "1/1 [==============================] - 0s 56ms/step\n",
            "1/1 [==============================] - 0s 61ms/step\n",
            "1/1 [==============================] - 0s 52ms/step\n",
            "1/1 [==============================] - 0s 53ms/step\n",
            "1/1 [==============================] - 0s 55ms/step\n",
            "1/1 [==============================] - 0s 55ms/step\n",
            "1/1 [==============================] - 0s 58ms/step\n",
            "1/1 [==============================] - 0s 61ms/step\n",
            "1/1 [==============================] - 0s 53ms/step\n",
            "1/1 [==============================] - 0s 58ms/step\n",
            "1/1 [==============================] - 0s 74ms/step\n",
            "1/1 [==============================] - 0s 58ms/step\n",
            "1/1 [==============================] - 0s 54ms/step\n",
            "1/1 [==============================] - 0s 58ms/step\n",
            "1/1 [==============================] - 0s 59ms/step\n",
            "1/1 [==============================] - 0s 55ms/step\n",
            "1/1 [==============================] - 0s 53ms/step\n",
            "1/1 [==============================] - 0s 58ms/step\n",
            "1/1 [==============================] - 0s 46ms/step\n",
            "1/1 [==============================] - 0s 37ms/step\n",
            "1/1 [==============================] - 0s 37ms/step\n",
            "1/1 [==============================] - 0s 35ms/step\n",
            "1/1 [==============================] - 0s 34ms/step\n",
            "1/1 [==============================] - 0s 34ms/step\n",
            "1/1 [==============================] - 0s 34ms/step\n",
            "1/1 [==============================] - 0s 35ms/step\n",
            "1/1 [==============================] - 0s 33ms/step\n",
            "1/1 [==============================] - 0s 33ms/step\n",
            "1/1 [==============================] - 0s 34ms/step\n",
            "1/1 [==============================] - 0s 33ms/step\n",
            "1/1 [==============================] - 0s 44ms/step\n",
            "1/1 [==============================] - 0s 37ms/step\n",
            "1/1 [==============================] - 0s 36ms/step\n",
            "1/1 [==============================] - 0s 37ms/step\n",
            "1/1 [==============================] - 0s 33ms/step\n",
            "1/1 [==============================] - 0s 35ms/step\n",
            "1/1 [==============================] - 0s 40ms/step\n",
            "1/1 [==============================] - 0s 39ms/step\n",
            "1/1 [==============================] - 0s 36ms/step\n",
            "1/1 [==============================] - 0s 37ms/step\n",
            "1/1 [==============================] - 0s 37ms/step\n",
            "1/1 [==============================] - 0s 39ms/step\n",
            "1/1 [==============================] - 0s 36ms/step\n",
            "1/1 [==============================] - 0s 34ms/step\n",
            "1/1 [==============================] - 0s 34ms/step\n",
            "1/1 [==============================] - 0s 38ms/step\n",
            "1/1 [==============================] - 0s 39ms/step\n",
            "1/1 [==============================] - 0s 36ms/step\n",
            "1/1 [==============================] - 0s 36ms/step\n",
            "1/1 [==============================] - 0s 35ms/step\n",
            "1/1 [==============================] - 0s 37ms/step\n",
            "1/1 [==============================] - 0s 33ms/step\n",
            "1/1 [==============================] - 0s 36ms/step\n",
            "1/1 [==============================] - 0s 47ms/step\n"
          ]
        }
      ]
    },
    {
      "cell_type": "code",
      "source": [
        "new_predicted_price = sc.inverse_transform(np.array(new_predicted_price))\n",
        "print(new_predicted_price.shape)"
      ],
      "metadata": {
        "colab": {
          "base_uri": "https://localhost:8080/"
        },
        "id": "ag6PP68OBxrM",
        "outputId": "cac58166-98e4-4fad-f2b6-33da67343825"
      },
      "execution_count": null,
      "outputs": [
        {
          "output_type": "stream",
          "name": "stdout",
          "text": [
            "(100, 1)\n"
          ]
        }
      ]
    },
    {
      "cell_type": "code",
      "source": [
        "plt.plot(real_stock_price,color = 'red', label = 'Real Price')\n",
        "plt.plot(new_predicted_price, color = 'green', label = 'New Predicted Price')\n",
        "plt.title('NFLX Stock Price Prediction')\n",
        "plt.xlabel('Time')\n",
        "plt.ylabel('NFLX Stock Price')\n",
        "plt.xlim(0,100)\n",
        "plt.ylim(0,1200)\n",
        "plt.legend()\n",
        "plt.show()"
      ],
      "metadata": {
        "colab": {
          "base_uri": "https://localhost:8080/",
          "height": 472
        },
        "id": "QFlGSsO8B1p0",
        "outputId": "4370817b-7d22-4b99-d350-03325648f347"
      },
      "execution_count": null,
      "outputs": [
        {
          "output_type": "display_data",
          "data": {
            "text/plain": [
              "<Figure size 640x480 with 1 Axes>"
            ],
            "image/png": "[encoded data removed]"
          },
          "metadata": {}
        }
      ]
    }
  ]
}